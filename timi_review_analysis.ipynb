{
 "cells": [
  {
   "cell_type": "code",
   "execution_count": null,
   "metadata": {},
   "outputs": [],
   "source": [
    "# Import packages\n",
    "import pandas as pd\n",
    "import seaborn as sb\n",
    "import sqlite3 as sq\n",
    "\n",
    "# Add extra relevant packages below as needed: \n",
    "import shutil\n",
    "import numpy as np"
   ]
  },
  {
   "cell_type": "code",
   "execution_count": null,
   "metadata": {},
   "outputs": [],
   "source": []
  },
  {
   "cell_type": "code",
   "execution_count": null,
   "metadata": {},
   "outputs": [],
   "source": []
  },
  {
   "cell_type": "code",
   "execution_count": null,
   "metadata": {},
   "outputs": [],
   "source": [
    "# Unzip IMDB SQL to new folder repository\n",
    "import zipfile, os\n",
    "with zipfile.ZipFile(\"zippedData/im.db.zip\", 'r') as zip_ref:\n",
    "    zip_ref.extractall(\"temp/IMDB_sql\")\n",
    "    \n",
    "db_file = 'temp/IMDB_sql/im.db'\n",
    "# Initializing imdb SQL database\n",
    "# Create a SQL connection to our SQLite database\n",
    "con = sq.connect(db_file)\n",
    "\n",
    "\n",
    "## Connection test and reference\n",
    "test_table = pd.read_sql(\"\"\" SELECT *\n",
    "                \n",
    "                FROM movie_basics\n",
    "                WHERE start_year = 2018\n",
    "\n",
    "\"\"\", con)\n",
    "\n",
    "test_table\n",
    "# DO THINGS\n",
    "#remove temporary files\n",
    "import shutil\n",
    "con.close()\n",
    "shutil.rmtree('temp/')"
   ]
  },
  {
   "cell_type": "code",
   "execution_count": null,
   "metadata": {},
   "outputs": [],
   "source": []
  }
 ],
 "metadata": {
  "kernelspec": {
   "display_name": "Python (learn-env)",
   "language": "python",
   "name": "learn-env"
  },
  "language_info": {
   "codemirror_mode": {
    "name": "ipython",
    "version": 3
   },
   "file_extension": ".py",
   "mimetype": "text/x-python",
   "name": "python",
   "nbconvert_exporter": "python",
   "pygments_lexer": "ipython3",
   "version": "3.8.5"
  }
 },
 "nbformat": 4,
 "nbformat_minor": 4
}
